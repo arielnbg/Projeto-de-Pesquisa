{
  "nbformat": 4,
  "nbformat_minor": 0,
  "metadata": {
    "colab": {
      "provenance": [],
      "collapsed_sections": [
        "rrPp5XW9sP20",
        "qi1vSpNItiln",
        "DBihchL-re1f",
        "7Psu1Jf-s2yQ"
      ],
      "include_colab_link": true
    },
    "kernelspec": {
      "name": "python3",
      "display_name": "Python 3"
    },
    "language_info": {
      "name": "python"
    }
  },
  "cells": [
    {
      "cell_type": "markdown",
      "metadata": {
        "id": "view-in-github",
        "colab_type": "text"
      },
      "source": [
        "<a href=\"https://colab.research.google.com/github/arielnbg/Projeto-de-Pesquisa/blob/under/Undersample_e_Grid_Search.ipynb\" target=\"_parent\"><img src=\"https://colab.research.google.com/assets/colab-badge.svg\" alt=\"Open In Colab\"/></a>"
      ]
    },
    {
      "cell_type": "markdown",
      "source": [
        "# Peso Normal e Macrossomia\n",
        "Macrossomia: >= 4000g |\n",
        "Peso Normal: >= 2500g e < 4000g"
      ],
      "metadata": {
        "id": "rrPp5XW9sP20"
      }
    },
    {
      "cell_type": "code",
      "execution_count": null,
      "metadata": {
        "colab": {
          "base_uri": "https://localhost:8080/"
        },
        "id": "eaF_IS_6q_VW",
        "outputId": "44e99074-5e1d-4d94-c77b-4d04169139df"
      },
      "outputs": [
        {
          "output_type": "stream",
          "name": "stdout",
          "text": [
            "Mounted at /content/drive\n"
          ]
        }
      ],
      "source": [
        "from google.colab import drive\n",
        "drive.mount(\"/content/drive\",True)"
      ]
    },
    {
      "cell_type": "code",
      "source": [
        "import pandas as pd\n",
        "import numpy as np"
      ],
      "metadata": {
        "id": "voRVmobmsKUv"
      },
      "execution_count": null,
      "outputs": []
    },
    {
      "cell_type": "code",
      "source": [
        "# load dataset\n",
        "\n",
        "uri = ('/content/drive/MyDrive/IC/BASE_PRE_PROCESSADA_LITERATURA.csv')\n",
        "\n",
        "dados = pd.read_csv(uri)\n",
        "dados.head()"
      ],
      "metadata": {
        "colab": {
          "base_uri": "https://localhost:8080/",
          "height": 206
        },
        "id": "HbKc9xtAseYy",
        "outputId": "200de3a7-b255-41ec-f9d7-d9a193cda8ca"
      },
      "execution_count": null,
      "outputs": [
        {
          "output_type": "execute_result",
          "data": {
            "text/plain": [
              "   Unnamed: 0  IDADEMAE  ESTCIVMAE  CODOCUPMAE  QTDFILVIVO  QTDFILMORT  \\\n",
              "0           1        37        2.0         0.0         0.0         0.0   \n",
              "1           2        16        9.0         1.0         0.0         0.0   \n",
              "2           3        22        5.0         1.0         0.0         0.0   \n",
              "3           5        20        2.0         1.0         0.0         0.0   \n",
              "4           6        20        5.0         1.0         0.0         0.0   \n",
              "\n",
              "   GRAVIDEZ  SEXO  PESO  RACACORMAE  QTDPARTCES  ESCMAEAGR1  \n",
              "0       1.0     2   0.0         4.0         0.0         6.0  \n",
              "1       1.0     1   0.0         1.0         0.0         4.0  \n",
              "2       1.0     2   0.0         4.0         0.0         6.0  \n",
              "3       1.0     2   0.0         1.0         0.0         6.0  \n",
              "4       1.0     1   0.0         4.0         0.0         6.0  "
            ],
            "text/html": [
              "\n",
              "  <div id=\"df-73e6e306-1e54-42b5-9f8c-eb88896b26e3\" class=\"colab-df-container\">\n",
              "    <div>\n",
              "<style scoped>\n",
              "    .dataframe tbody tr th:only-of-type {\n",
              "        vertical-align: middle;\n",
              "    }\n",
              "\n",
              "    .dataframe tbody tr th {\n",
              "        vertical-align: top;\n",
              "    }\n",
              "\n",
              "    .dataframe thead th {\n",
              "        text-align: right;\n",
              "    }\n",
              "</style>\n",
              "<table border=\"1\" class=\"dataframe\">\n",
              "  <thead>\n",
              "    <tr style=\"text-align: right;\">\n",
              "      <th></th>\n",
              "      <th>Unnamed: 0</th>\n",
              "      <th>IDADEMAE</th>\n",
              "      <th>ESTCIVMAE</th>\n",
              "      <th>CODOCUPMAE</th>\n",
              "      <th>QTDFILVIVO</th>\n",
              "      <th>QTDFILMORT</th>\n",
              "      <th>GRAVIDEZ</th>\n",
              "      <th>SEXO</th>\n",
              "      <th>PESO</th>\n",
              "      <th>RACACORMAE</th>\n",
              "      <th>QTDPARTCES</th>\n",
              "      <th>ESCMAEAGR1</th>\n",
              "    </tr>\n",
              "  </thead>\n",
              "  <tbody>\n",
              "    <tr>\n",
              "      <th>0</th>\n",
              "      <td>1</td>\n",
              "      <td>37</td>\n",
              "      <td>2.0</td>\n",
              "      <td>0.0</td>\n",
              "      <td>0.0</td>\n",
              "      <td>0.0</td>\n",
              "      <td>1.0</td>\n",
              "      <td>2</td>\n",
              "      <td>0.0</td>\n",
              "      <td>4.0</td>\n",
              "      <td>0.0</td>\n",
              "      <td>6.0</td>\n",
              "    </tr>\n",
              "    <tr>\n",
              "      <th>1</th>\n",
              "      <td>2</td>\n",
              "      <td>16</td>\n",
              "      <td>9.0</td>\n",
              "      <td>1.0</td>\n",
              "      <td>0.0</td>\n",
              "      <td>0.0</td>\n",
              "      <td>1.0</td>\n",
              "      <td>1</td>\n",
              "      <td>0.0</td>\n",
              "      <td>1.0</td>\n",
              "      <td>0.0</td>\n",
              "      <td>4.0</td>\n",
              "    </tr>\n",
              "    <tr>\n",
              "      <th>2</th>\n",
              "      <td>3</td>\n",
              "      <td>22</td>\n",
              "      <td>5.0</td>\n",
              "      <td>1.0</td>\n",
              "      <td>0.0</td>\n",
              "      <td>0.0</td>\n",
              "      <td>1.0</td>\n",
              "      <td>2</td>\n",
              "      <td>0.0</td>\n",
              "      <td>4.0</td>\n",
              "      <td>0.0</td>\n",
              "      <td>6.0</td>\n",
              "    </tr>\n",
              "    <tr>\n",
              "      <th>3</th>\n",
              "      <td>5</td>\n",
              "      <td>20</td>\n",
              "      <td>2.0</td>\n",
              "      <td>1.0</td>\n",
              "      <td>0.0</td>\n",
              "      <td>0.0</td>\n",
              "      <td>1.0</td>\n",
              "      <td>2</td>\n",
              "      <td>0.0</td>\n",
              "      <td>1.0</td>\n",
              "      <td>0.0</td>\n",
              "      <td>6.0</td>\n",
              "    </tr>\n",
              "    <tr>\n",
              "      <th>4</th>\n",
              "      <td>6</td>\n",
              "      <td>20</td>\n",
              "      <td>5.0</td>\n",
              "      <td>1.0</td>\n",
              "      <td>0.0</td>\n",
              "      <td>0.0</td>\n",
              "      <td>1.0</td>\n",
              "      <td>1</td>\n",
              "      <td>0.0</td>\n",
              "      <td>4.0</td>\n",
              "      <td>0.0</td>\n",
              "      <td>6.0</td>\n",
              "    </tr>\n",
              "  </tbody>\n",
              "</table>\n",
              "</div>\n",
              "    <div class=\"colab-df-buttons\">\n",
              "\n",
              "  <div class=\"colab-df-container\">\n",
              "    <button class=\"colab-df-convert\" onclick=\"convertToInteractive('df-73e6e306-1e54-42b5-9f8c-eb88896b26e3')\"\n",
              "            title=\"Convert this dataframe to an interactive table.\"\n",
              "            style=\"display:none;\">\n",
              "\n",
              "  <svg xmlns=\"http://www.w3.org/2000/svg\" height=\"24px\" viewBox=\"0 -960 960 960\">\n",
              "    <path d=\"M120-120v-720h720v720H120Zm60-500h600v-160H180v160Zm220 220h160v-160H400v160Zm0 220h160v-160H400v160ZM180-400h160v-160H180v160Zm440 0h160v-160H620v160ZM180-180h160v-160H180v160Zm440 0h160v-160H620v160Z\"/>\n",
              "  </svg>\n",
              "    </button>\n",
              "\n",
              "  <style>\n",
              "    .colab-df-container {\n",
              "      display:flex;\n",
              "      gap: 12px;\n",
              "    }\n",
              "\n",
              "    .colab-df-convert {\n",
              "      background-color: #E8F0FE;\n",
              "      border: none;\n",
              "      border-radius: 50%;\n",
              "      cursor: pointer;\n",
              "      display: none;\n",
              "      fill: #1967D2;\n",
              "      height: 32px;\n",
              "      padding: 0 0 0 0;\n",
              "      width: 32px;\n",
              "    }\n",
              "\n",
              "    .colab-df-convert:hover {\n",
              "      background-color: #E2EBFA;\n",
              "      box-shadow: 0px 1px 2px rgba(60, 64, 67, 0.3), 0px 1px 3px 1px rgba(60, 64, 67, 0.15);\n",
              "      fill: #174EA6;\n",
              "    }\n",
              "\n",
              "    .colab-df-buttons div {\n",
              "      margin-bottom: 4px;\n",
              "    }\n",
              "\n",
              "    [theme=dark] .colab-df-convert {\n",
              "      background-color: #3B4455;\n",
              "      fill: #D2E3FC;\n",
              "    }\n",
              "\n",
              "    [theme=dark] .colab-df-convert:hover {\n",
              "      background-color: #434B5C;\n",
              "      box-shadow: 0px 1px 3px 1px rgba(0, 0, 0, 0.15);\n",
              "      filter: drop-shadow(0px 1px 2px rgba(0, 0, 0, 0.3));\n",
              "      fill: #FFFFFF;\n",
              "    }\n",
              "  </style>\n",
              "\n",
              "    <script>\n",
              "      const buttonEl =\n",
              "        document.querySelector('#df-73e6e306-1e54-42b5-9f8c-eb88896b26e3 button.colab-df-convert');\n",
              "      buttonEl.style.display =\n",
              "        google.colab.kernel.accessAllowed ? 'block' : 'none';\n",
              "\n",
              "      async function convertToInteractive(key) {\n",
              "        const element = document.querySelector('#df-73e6e306-1e54-42b5-9f8c-eb88896b26e3');\n",
              "        const dataTable =\n",
              "          await google.colab.kernel.invokeFunction('convertToInteractive',\n",
              "                                                    [key], {});\n",
              "        if (!dataTable) return;\n",
              "\n",
              "        const docLinkHtml = 'Like what you see? Visit the ' +\n",
              "          '<a target=\"_blank\" href=https://colab.research.google.com/notebooks/data_table.ipynb>data table notebook</a>'\n",
              "          + ' to learn more about interactive tables.';\n",
              "        element.innerHTML = '';\n",
              "        dataTable['output_type'] = 'display_data';\n",
              "        await google.colab.output.renderOutput(dataTable, element);\n",
              "        const docLink = document.createElement('div');\n",
              "        docLink.innerHTML = docLinkHtml;\n",
              "        element.appendChild(docLink);\n",
              "      }\n",
              "    </script>\n",
              "  </div>\n",
              "\n",
              "\n",
              "<div id=\"df-c3585709-4e7d-402c-9ad4-196893a3b4f7\">\n",
              "  <button class=\"colab-df-quickchart\" onclick=\"quickchart('df-c3585709-4e7d-402c-9ad4-196893a3b4f7')\"\n",
              "            title=\"Suggest charts\"\n",
              "            style=\"display:none;\">\n",
              "\n",
              "<svg xmlns=\"http://www.w3.org/2000/svg\" height=\"24px\"viewBox=\"0 0 24 24\"\n",
              "     width=\"24px\">\n",
              "    <g>\n",
              "        <path d=\"M19 3H5c-1.1 0-2 .9-2 2v14c0 1.1.9 2 2 2h14c1.1 0 2-.9 2-2V5c0-1.1-.9-2-2-2zM9 17H7v-7h2v7zm4 0h-2V7h2v10zm4 0h-2v-4h2v4z\"/>\n",
              "    </g>\n",
              "</svg>\n",
              "  </button>\n",
              "\n",
              "<style>\n",
              "  .colab-df-quickchart {\n",
              "      --bg-color: #E8F0FE;\n",
              "      --fill-color: #1967D2;\n",
              "      --hover-bg-color: #E2EBFA;\n",
              "      --hover-fill-color: #174EA6;\n",
              "      --disabled-fill-color: #AAA;\n",
              "      --disabled-bg-color: #DDD;\n",
              "  }\n",
              "\n",
              "  [theme=dark] .colab-df-quickchart {\n",
              "      --bg-color: #3B4455;\n",
              "      --fill-color: #D2E3FC;\n",
              "      --hover-bg-color: #434B5C;\n",
              "      --hover-fill-color: #FFFFFF;\n",
              "      --disabled-bg-color: #3B4455;\n",
              "      --disabled-fill-color: #666;\n",
              "  }\n",
              "\n",
              "  .colab-df-quickchart {\n",
              "    background-color: var(--bg-color);\n",
              "    border: none;\n",
              "    border-radius: 50%;\n",
              "    cursor: pointer;\n",
              "    display: none;\n",
              "    fill: var(--fill-color);\n",
              "    height: 32px;\n",
              "    padding: 0;\n",
              "    width: 32px;\n",
              "  }\n",
              "\n",
              "  .colab-df-quickchart:hover {\n",
              "    background-color: var(--hover-bg-color);\n",
              "    box-shadow: 0 1px 2px rgba(60, 64, 67, 0.3), 0 1px 3px 1px rgba(60, 64, 67, 0.15);\n",
              "    fill: var(--button-hover-fill-color);\n",
              "  }\n",
              "\n",
              "  .colab-df-quickchart-complete:disabled,\n",
              "  .colab-df-quickchart-complete:disabled:hover {\n",
              "    background-color: var(--disabled-bg-color);\n",
              "    fill: var(--disabled-fill-color);\n",
              "    box-shadow: none;\n",
              "  }\n",
              "\n",
              "  .colab-df-spinner {\n",
              "    border: 2px solid var(--fill-color);\n",
              "    border-color: transparent;\n",
              "    border-bottom-color: var(--fill-color);\n",
              "    animation:\n",
              "      spin 1s steps(1) infinite;\n",
              "  }\n",
              "\n",
              "  @keyframes spin {\n",
              "    0% {\n",
              "      border-color: transparent;\n",
              "      border-bottom-color: var(--fill-color);\n",
              "      border-left-color: var(--fill-color);\n",
              "    }\n",
              "    20% {\n",
              "      border-color: transparent;\n",
              "      border-left-color: var(--fill-color);\n",
              "      border-top-color: var(--fill-color);\n",
              "    }\n",
              "    30% {\n",
              "      border-color: transparent;\n",
              "      border-left-color: var(--fill-color);\n",
              "      border-top-color: var(--fill-color);\n",
              "      border-right-color: var(--fill-color);\n",
              "    }\n",
              "    40% {\n",
              "      border-color: transparent;\n",
              "      border-right-color: var(--fill-color);\n",
              "      border-top-color: var(--fill-color);\n",
              "    }\n",
              "    60% {\n",
              "      border-color: transparent;\n",
              "      border-right-color: var(--fill-color);\n",
              "    }\n",
              "    80% {\n",
              "      border-color: transparent;\n",
              "      border-right-color: var(--fill-color);\n",
              "      border-bottom-color: var(--fill-color);\n",
              "    }\n",
              "    90% {\n",
              "      border-color: transparent;\n",
              "      border-bottom-color: var(--fill-color);\n",
              "    }\n",
              "  }\n",
              "</style>\n",
              "\n",
              "  <script>\n",
              "    async function quickchart(key) {\n",
              "      const quickchartButtonEl =\n",
              "        document.querySelector('#' + key + ' button');\n",
              "      quickchartButtonEl.disabled = true;  // To prevent multiple clicks.\n",
              "      quickchartButtonEl.classList.add('colab-df-spinner');\n",
              "      try {\n",
              "        const charts = await google.colab.kernel.invokeFunction(\n",
              "            'suggestCharts', [key], {});\n",
              "      } catch (error) {\n",
              "        console.error('Error during call to suggestCharts:', error);\n",
              "      }\n",
              "      quickchartButtonEl.classList.remove('colab-df-spinner');\n",
              "      quickchartButtonEl.classList.add('colab-df-quickchart-complete');\n",
              "    }\n",
              "    (() => {\n",
              "      let quickchartButtonEl =\n",
              "        document.querySelector('#df-c3585709-4e7d-402c-9ad4-196893a3b4f7 button');\n",
              "      quickchartButtonEl.style.display =\n",
              "        google.colab.kernel.accessAllowed ? 'block' : 'none';\n",
              "    })();\n",
              "  </script>\n",
              "</div>\n",
              "\n",
              "    </div>\n",
              "  </div>\n"
            ],
            "application/vnd.google.colaboratory.intrinsic+json": {
              "type": "dataframe",
              "variable_name": "dados"
            }
          },
          "metadata": {},
          "execution_count": 3
        }
      ]
    },
    {
      "cell_type": "code",
      "source": [
        "dados['PESO'].value_counts()"
      ],
      "metadata": {
        "colab": {
          "base_uri": "https://localhost:8080/"
        },
        "id": "_lnNK-7h0fqo",
        "outputId": "cdc54ee0-292f-495a-8a40-de9fc85d6ee7"
      },
      "execution_count": null,
      "outputs": [
        {
          "output_type": "execute_result",
          "data": {
            "text/plain": [
              "PESO\n",
              "0.0    424121\n",
              "1.0     30261\n",
              "Name: count, dtype: int64"
            ]
          },
          "metadata": {},
          "execution_count": 4
        }
      ]
    },
    {
      "cell_type": "code",
      "source": [
        "PN = dados.loc[dados[\"PESO\"] == 0]\n",
        "MACRO = dados.loc[dados[\"PESO\"] == 1]\n",
        "\n",
        "under_PN = PN.sample(len(MACRO))\n",
        "\n",
        "df_balanceado = pd.concat([MACRO, under_PN])\n",
        "#pd. é o concat \"juntando as variáveis de MACRO E under_PN, para ter as mesmas quantidades de registros\"\n",
        "df_balanceado['PESO'].value_counts()"
      ],
      "metadata": {
        "id": "n1dEaHidCK1S",
        "outputId": "5d09e1ea-7c98-4969-cf8b-31488531f9e8",
        "colab": {
          "base_uri": "https://localhost:8080/"
        }
      },
      "execution_count": null,
      "outputs": [
        {
          "output_type": "execute_result",
          "data": {
            "text/plain": [
              "PESO\n",
              "1.0    30261\n",
              "0.0    30261\n",
              "Name: count, dtype: int64"
            ]
          },
          "metadata": {},
          "execution_count": 5
        }
      ]
    },
    {
      "cell_type": "code",
      "source": [
        "\n",
        "import matplotlib.pyplot as plt\n",
        "\n",
        "# Simulando os dados como no seu código\n",
        "dados = pd.DataFrame({'PESO': [0]*360000 + [1]*30261})  # Números alterados para correspondência\n",
        "\n",
        "# Aplicação do seu código de undersampling\n",
        "PN = dados.loc[dados[\"PESO\"] == 0]\n",
        "MACRO = dados.loc[dados[\"PESO\"] == 1]\n",
        "under_PN = PN.sample(len(MACRO), random_state=42)  # Usando random_state para reprodutibilidade\n",
        "df_balanceado = pd.concat([MACRO, under_PN])\n",
        "\n",
        "# Plotando o gráfico antes do undersampling\n",
        "plt.figure(figsize=(12, 5))\n",
        "\n",
        "plt.subplot(1, 2, 1)  # Dois gráficos lado a lado, este é o primeiro\n",
        "dados['PESO'].value_counts().plot(kind='bar', color='blue')\n",
        "plt.title('Antes do Undersample')\n",
        "plt.xlabel('Classes')\n",
        "plt.ylabel('Quantidade de Dados')\n",
        "\n",
        "# Captura a quantidade máxima de dados para definir um limite comum\n",
        "max_y = max(dados['PESO'].value_counts().max(), df_balanceado['PESO'].value_counts().max())\n",
        "\n",
        "# Ajustando o eixo y para ter o mesmo limite\n",
        "plt.ylim(0, max_y)\n",
        "\n",
        "# Plotando o gráfico depois do undersampling\n",
        "plt.subplot(1, 2, 2)  # Este é o segundo gráfico\n",
        "df_balanceado['PESO'].value_counts().plot(kind='bar', color='green')\n",
        "plt.title('Depois do Undersample')\n",
        "plt.xlabel('Classes')\n",
        "plt.ylabel('Quantidade de Dados')\n",
        "\n",
        "# Ajustando o eixo y para ter o mesmo limite\n",
        "plt.ylim(0, max_y)\n",
        "\n",
        "plt.tight_layout()\n",
        "plt.show();  # Nota o ponto e vírgula aqui para suprimir saída extra\n",
        "\n",
        "'''\n",
        "# Simulando os dados como no seu código\n",
        "dados = pd.DataFrame({'PESO': [0]*360000 + [1]*30261})  # Números alterados para correspondência\n",
        "\n",
        "# Aplicação do seu código de undersampling\n",
        "PN = dados.loc[dados[\"PESO\"] == 0]\n",
        "MACRO = dados.loc[dados[\"PESO\"] == 1]\n",
        "under_PN = PN.sample(len(MACRO), random_state=42)  # Usando random_state para reprodutibilidade\n",
        "df_balanceado = pd.concat([MACRO, under_PN])\n",
        "\n",
        "# Plotando o gráfico antes do undersampling\n",
        "plt.figure(figsize=(12, 5))\n",
        "\n",
        "plt.subplot(1, 2, 1)  # Dois gráficos lado a lado, este é o primeiro\n",
        "dados['PESO'].value_counts().plot(kind='bar', color='blue')\n",
        "plt.title('Antes do Undersample')\n",
        "plt.xlabel('Classes')\n",
        "plt.ylabel('Quantidade de Dados')\n",
        "\n",
        "# Plotando o gráfico depois do undersampling\n",
        "plt.subplot(1, 2, 2)  # Este é o segundo gráfico\n",
        "df_balanceado['PESO'].value_counts().plot(kind='bar', color='green')\n",
        "plt.title('Depois do Undersample')\n",
        "plt.xlabel('Classes')\n",
        "plt.ylabel('Quantidade de Dados')\n",
        "\n",
        "plt.tight_layout()\n",
        "plt.show() '''\n"
      ],
      "metadata": {
        "colab": {
          "base_uri": "https://localhost:8080/",
          "height": 595
        },
        "id": "oTOJlo2LrBnw",
        "outputId": "be03688f-1959-4b0c-d227-694706ae17b0"
      },
      "execution_count": null,
      "outputs": [
        {
          "output_type": "display_data",
          "data": {
            "text/plain": [
              "<Figure size 1200x500 with 2 Axes>"
            ],
            "image/png": "[encoded data removed]"
          },
          "metadata": {}
        },
        {
          "output_type": "execute_result",
          "data": {
            "text/plain": [
              "'\\n# Simulando os dados como no seu código\\ndados = pd.DataFrame({\\'PESO\\': [0]*360000 + [1]*30261})  # Números alterados para correspondência\\n\\n# Aplicação do seu código de undersampling\\nPN = dados.loc[dados[\"PESO\"] == 0]\\nMACRO = dados.loc[dados[\"PESO\"] == 1]\\nunder_PN = PN.sample(len(MACRO), random_state=42)  # Usando random_state para reprodutibilidade\\ndf_balanceado = pd.concat([MACRO, under_PN])\\n\\n# Plotando o gráfico antes do undersampling\\nplt.figure(figsize=(12, 5))\\n\\nplt.subplot(1, 2, 1)  # Dois gráficos lado a lado, este é o primeiro\\ndados[\\'PESO\\'].value_counts().plot(kind=\\'bar\\', color=\\'blue\\')\\nplt.title(\\'Antes do Undersample\\')\\nplt.xlabel(\\'Classes\\')\\nplt.ylabel(\\'Quantidade de Dados\\')\\n\\n# Plotando o gráfico depois do undersampling\\nplt.subplot(1, 2, 2)  # Este é o segundo gráfico\\ndf_balanceado[\\'PESO\\'].value_counts().plot(kind=\\'bar\\', color=\\'green\\')\\nplt.title(\\'Depois do Undersample\\')\\nplt.xlabel(\\'Classes\\')\\nplt.ylabel(\\'Quantidade de Dados\\')\\n\\nplt.tight_layout()\\nplt.show() '"
            ],
            "application/vnd.google.colaboratory.intrinsic+json": {
              "type": "string"
            }
          },
          "metadata": {},
          "execution_count": 7
        }
      ]
    },
    {
      "cell_type": "code",
      "source": [
        "if 'Unnamed: 0' in df_balanceado.columns:\n",
        "    df_balanceado.drop('Unnamed: 0', axis=1, inplace=True)\n"
      ],
      "metadata": {
        "id": "evfftIC1rltK"
      },
      "execution_count": null,
      "outputs": []
    },
    {
      "cell_type": "code",
      "source": [
        "# Importando a função train_test_split\n",
        "from sklearn.model_selection import train_test_split\n",
        "\n",
        "# Dividindo os dados em treino e teste\n",
        "X_train, X_test, y_train, y_test = train_test_split(X, y, test_size=0.3, random_state=1000)"
      ],
      "metadata": {
        "id": "0m6fGdkXsbRi",
        "colab": {
          "base_uri": "https://localhost:8080/",
          "height": 176
        },
        "outputId": "d8468829-5270-4dfe-d599-8e721506cc69"
      },
      "execution_count": null,
      "outputs": [
        {
          "output_type": "error",
          "ename": "NameError",
          "evalue": "name 'X' is not defined",
          "traceback": [
            "\u001b[0;31m---------------------------------------------------------------------------\u001b[0m",
            "\u001b[0;31mNameError\u001b[0m                                 Traceback (most recent call last)",
            "\u001b[0;32m<ipython-input-9-00dafb9d0a04>\u001b[0m in \u001b[0;36m<cell line: 5>\u001b[0;34m()\u001b[0m\n\u001b[1;32m      3\u001b[0m \u001b[0;34m\u001b[0m\u001b[0m\n\u001b[1;32m      4\u001b[0m \u001b[0;31m# Dividindo os dados em treino e teste\u001b[0m\u001b[0;34m\u001b[0m\u001b[0;34m\u001b[0m\u001b[0m\n\u001b[0;32m----> 5\u001b[0;31m \u001b[0mX_train\u001b[0m\u001b[0;34m,\u001b[0m \u001b[0mX_test\u001b[0m\u001b[0;34m,\u001b[0m \u001b[0my_train\u001b[0m\u001b[0;34m,\u001b[0m \u001b[0my_test\u001b[0m \u001b[0;34m=\u001b[0m \u001b[0mtrain_test_split\u001b[0m\u001b[0;34m(\u001b[0m\u001b[0mX\u001b[0m\u001b[0;34m,\u001b[0m \u001b[0my\u001b[0m\u001b[0;34m,\u001b[0m \u001b[0mtest_size\u001b[0m\u001b[0;34m=\u001b[0m\u001b[0;36m0.3\u001b[0m\u001b[0;34m,\u001b[0m \u001b[0mrandom_state\u001b[0m\u001b[0;34m=\u001b[0m\u001b[0;36m1000\u001b[0m\u001b[0;34m)\u001b[0m\u001b[0;34m\u001b[0m\u001b[0;34m\u001b[0m\u001b[0m\n\u001b[0m",
            "\u001b[0;31mNameError\u001b[0m: name 'X' is not defined"
          ]
        }
      ]
    },
    {
      "cell_type": "code",
      "source": [
        "df_balanceado.to_csv('/content/drive/MyDrive/IC/POWER_BI_BASE_LITERATURA_BALANCEADA.csv', sep = ',')"
      ],
      "metadata": {
        "id": "gwNLwVrcOy14"
      },
      "execution_count": null,
      "outputs": []
    },
    {
      "cell_type": "code",
      "source": [
        "from sklearn.tree import DecisionTreeClassifier\n",
        "from sklearn.ensemble import RandomForestClassifier\n",
        "from sklearn.ensemble import AdaBoostClassifier\n",
        "from sklearn.metrics import classification_report\n",
        "from sklearn.model_selection import GridSearchCV, train_test_split\n",
        "import matplotlib.pyplot as plt\n",
        "import sklearn.metrics as metrics"
      ],
      "metadata": {
        "id": "E2GJREDrtUXU"
      },
      "execution_count": null,
      "outputs": []
    },
    {
      "cell_type": "markdown",
      "source": [
        "#GridSearch Decision Tree\n"
      ],
      "metadata": {
        "id": "qi1vSpNItiln"
      }
    },
    {
      "cell_type": "code",
      "source": [
        "df_balanceado['PESO'].value_counts()"
      ],
      "metadata": {
        "colab": {
          "base_uri": "https://localhost:8080/"
        },
        "id": "QPXBoeuWVU0Y",
        "outputId": "63f7aa81-8166-446d-911e-4e4d6e82eb84"
      },
      "execution_count": null,
      "outputs": [
        {
          "output_type": "execute_result",
          "data": {
            "text/plain": [
              "PESO\n",
              "1    30261\n",
              "0    30261\n",
              "Name: count, dtype: int64"
            ]
          },
          "metadata": {},
          "execution_count": 52
        }
      ]
    },
    {
      "cell_type": "code",
      "source": [
        "#Aqui iremos passar as definições do gridsearch para o modelo Decision Tree\n",
        "\n",
        "# Defina o modelo\n",
        "model_decision = DecisionTreeClassifier()\n",
        "\n",
        "# Defina o espaço de hiperparâmetros\n",
        "param_grid = {\n",
        "    'criterion': ['gini', 'entropy'],  # Critério para medir a qualidade da divisão\n",
        "    'splitter': ['best', 'random'],    # Estratégia usada para dividir em cada nó\n",
        "    'max_depth': [None, 10, 20, 30, 40, 50],  # Profundidade máxima da árvore\n",
        "    'min_samples_split': [2, 5, 10],   # Número mínimo de amostras necessárias para dividir um nó interno\n",
        "    'min_samples_leaf': [1, 2, 4],     # Número mínimo de amostras necessárias em uma folha\n",
        "    'max_features': [None, 'sqrt', 'log2'],  # Número máximo de recursos a serem considerados em cada divisão\n",
        "    'random_state': [None, 42]  # Semente aleatória para a reprodutibilidade\n",
        "}\n",
        "\n",
        "cross_validation = 10"
      ],
      "metadata": {
        "id": "IwBNMhmFtilo"
      },
      "execution_count": null,
      "outputs": []
    },
    {
      "cell_type": "code",
      "source": [
        "gridsearch_decision_tree = GridSearchCV(estimator=model_decision, param_grid=param_grid, cv=cross_validation, scoring='accuracy', verbose=2, n_jobs=-1)\n"
      ],
      "metadata": {
        "id": "iBpWQB0ptilo"
      },
      "execution_count": null,
      "outputs": []
    },
    {
      "cell_type": "code",
      "source": [
        "gridsearch_decision_tree.fit(X_train, y_train)"
      ],
      "metadata": {
        "colab": {
          "base_uri": "https://localhost:8080/",
          "height": 936
        },
        "outputId": "525d6e9c-1d97-43dc-ec8b-c40ff07aaeb2",
        "id": "2S4imR8-tilo"
      },
      "execution_count": null,
      "outputs": [
        {
          "output_type": "stream",
          "name": "stdout",
          "text": [
            "Fitting 10 folds for each of 1296 candidates, totalling 12960 fits\n"
          ]
        },
        {
          "output_type": "error",
          "ename": "ValueError",
          "evalue": "\nAll the 12960 fits failed.\nIt is very likely that your model is misconfigured.\nYou can try to debug the error by setting error_score='raise'.\n\nBelow are more details about the failures:\n--------------------------------------------------------------------------------\n6480 fits failed with the following error:\nTraceback (most recent call last):\n  File \"/usr/local/lib/python3.10/dist-packages/sklearn/model_selection/_validation.py\", line 686, in _fit_and_score\n    estimator.fit(X_train, y_train, **fit_params)\n  File \"/usr/local/lib/python3.10/dist-packages/sklearn/tree/_classes.py\", line 889, in fit\n    super().fit(\n  File \"/usr/local/lib/python3.10/dist-packages/sklearn/tree/_classes.py\", line 186, in fit\n    X, y = self._validate_data(\n  File \"/usr/local/lib/python3.10/dist-packages/sklearn/base.py\", line 579, in _validate_data\n    X = check_array(X, input_name=\"X\", **check_X_params)\n  File \"/usr/local/lib/python3.10/dist-packages/sklearn/utils/validation.py\", line 940, in check_array\n    raise ValueError(\nValueError: Found array with 0 feature(s) (shape=(38128, 0)) while a minimum of 1 is required by DecisionTreeClassifier.\n\n--------------------------------------------------------------------------------\n6480 fits failed with the following error:\nTraceback (most recent call last):\n  File \"/usr/local/lib/python3.10/dist-packages/sklearn/model_selection/_validation.py\", line 686, in _fit_and_score\n    estimator.fit(X_train, y_train, **fit_params)\n  File \"/usr/local/lib/python3.10/dist-packages/sklearn/tree/_classes.py\", line 889, in fit\n    super().fit(\n  File \"/usr/local/lib/python3.10/dist-packages/sklearn/tree/_classes.py\", line 186, in fit\n    X, y = self._validate_data(\n  File \"/usr/local/lib/python3.10/dist-packages/sklearn/base.py\", line 579, in _validate_data\n    X = check_array(X, input_name=\"X\", **check_X_params)\n  File \"/usr/local/lib/python3.10/dist-packages/sklearn/utils/validation.py\", line 940, in check_array\n    raise ValueError(\nValueError: Found array with 0 feature(s) (shape=(38129, 0)) while a minimum of 1 is required by DecisionTreeClassifier.\n",
          "traceback": [
            "\u001b[0;31m---------------------------------------------------------------------------\u001b[0m",
            "\u001b[0;31mValueError\u001b[0m                                Traceback (most recent call last)",
            "\u001b[0;32m<ipython-input-56-d88f0c5da254>\u001b[0m in \u001b[0;36m<cell line: 1>\u001b[0;34m()\u001b[0m\n\u001b[0;32m----> 1\u001b[0;31m \u001b[0mgridsearch_decision_tree\u001b[0m\u001b[0;34m.\u001b[0m\u001b[0mfit\u001b[0m\u001b[0;34m(\u001b[0m\u001b[0mX_train\u001b[0m\u001b[0;34m,\u001b[0m \u001b[0my_train\u001b[0m\u001b[0;34m)\u001b[0m\u001b[0;34m\u001b[0m\u001b[0;34m\u001b[0m\u001b[0m\n\u001b[0m",
            "\u001b[0;32m/usr/local/lib/python3.10/dist-packages/sklearn/model_selection/_search.py\u001b[0m in \u001b[0;36mfit\u001b[0;34m(self, X, y, groups, **fit_params)\u001b[0m\n\u001b[1;32m    872\u001b[0m                 \u001b[0;32mreturn\u001b[0m \u001b[0mresults\u001b[0m\u001b[0;34m\u001b[0m\u001b[0;34m\u001b[0m\u001b[0m\n\u001b[1;32m    873\u001b[0m \u001b[0;34m\u001b[0m\u001b[0m\n\u001b[0;32m--> 874\u001b[0;31m             \u001b[0mself\u001b[0m\u001b[0;34m.\u001b[0m\u001b[0m_run_search\u001b[0m\u001b[0;34m(\u001b[0m\u001b[0mevaluate_candidates\u001b[0m\u001b[0;34m)\u001b[0m\u001b[0;34m\u001b[0m\u001b[0;34m\u001b[0m\u001b[0m\n\u001b[0m\u001b[1;32m    875\u001b[0m \u001b[0;34m\u001b[0m\u001b[0m\n\u001b[1;32m    876\u001b[0m             \u001b[0;31m# multimetric is determined here because in the case of a callable\u001b[0m\u001b[0;34m\u001b[0m\u001b[0;34m\u001b[0m\u001b[0m\n",
            "\u001b[0;32m/usr/local/lib/python3.10/dist-packages/sklearn/model_selection/_search.py\u001b[0m in \u001b[0;36m_run_search\u001b[0;34m(self, evaluate_candidates)\u001b[0m\n\u001b[1;32m   1386\u001b[0m     \u001b[0;32mdef\u001b[0m \u001b[0m_run_search\u001b[0m\u001b[0;34m(\u001b[0m\u001b[0mself\u001b[0m\u001b[0;34m,\u001b[0m \u001b[0mevaluate_candidates\u001b[0m\u001b[0;34m)\u001b[0m\u001b[0;34m:\u001b[0m\u001b[0;34m\u001b[0m\u001b[0;34m\u001b[0m\u001b[0m\n\u001b[1;32m   1387\u001b[0m         \u001b[0;34m\"\"\"Search all candidates in param_grid\"\"\"\u001b[0m\u001b[0;34m\u001b[0m\u001b[0;34m\u001b[0m\u001b[0m\n\u001b[0;32m-> 1388\u001b[0;31m         \u001b[0mevaluate_candidates\u001b[0m\u001b[0;34m(\u001b[0m\u001b[0mParameterGrid\u001b[0m\u001b[0;34m(\u001b[0m\u001b[0mself\u001b[0m\u001b[0;34m.\u001b[0m\u001b[0mparam_grid\u001b[0m\u001b[0;34m)\u001b[0m\u001b[0;34m)\u001b[0m\u001b[0;34m\u001b[0m\u001b[0;34m\u001b[0m\u001b[0m\n\u001b[0m\u001b[1;32m   1389\u001b[0m \u001b[0;34m\u001b[0m\u001b[0m\n\u001b[1;32m   1390\u001b[0m \u001b[0;34m\u001b[0m\u001b[0m\n",
            "\u001b[0;32m/usr/local/lib/python3.10/dist-packages/sklearn/model_selection/_search.py\u001b[0m in \u001b[0;36mevaluate_candidates\u001b[0;34m(candidate_params, cv, more_results)\u001b[0m\n\u001b[1;32m    849\u001b[0m                     )\n\u001b[1;32m    850\u001b[0m \u001b[0;34m\u001b[0m\u001b[0m\n\u001b[0;32m--> 851\u001b[0;31m                 \u001b[0m_warn_or_raise_about_fit_failures\u001b[0m\u001b[0;34m(\u001b[0m\u001b[0mout\u001b[0m\u001b[0;34m,\u001b[0m \u001b[0mself\u001b[0m\u001b[0;34m.\u001b[0m\u001b[0merror_score\u001b[0m\u001b[0;34m)\u001b[0m\u001b[0;34m\u001b[0m\u001b[0;34m\u001b[0m\u001b[0m\n\u001b[0m\u001b[1;32m    852\u001b[0m \u001b[0;34m\u001b[0m\u001b[0m\n\u001b[1;32m    853\u001b[0m                 \u001b[0;31m# For callable self.scoring, the return type is only know after\u001b[0m\u001b[0;34m\u001b[0m\u001b[0;34m\u001b[0m\u001b[0m\n",
            "\u001b[0;32m/usr/local/lib/python3.10/dist-packages/sklearn/model_selection/_validation.py\u001b[0m in \u001b[0;36m_warn_or_raise_about_fit_failures\u001b[0;34m(results, error_score)\u001b[0m\n\u001b[1;32m    365\u001b[0m                 \u001b[0;34mf\"Below are more details about the failures:\\n{fit_errors_summary}\"\u001b[0m\u001b[0;34m\u001b[0m\u001b[0;34m\u001b[0m\u001b[0m\n\u001b[1;32m    366\u001b[0m             )\n\u001b[0;32m--> 367\u001b[0;31m             \u001b[0;32mraise\u001b[0m \u001b[0mValueError\u001b[0m\u001b[0;34m(\u001b[0m\u001b[0mall_fits_failed_message\u001b[0m\u001b[0;34m)\u001b[0m\u001b[0;34m\u001b[0m\u001b[0;34m\u001b[0m\u001b[0m\n\u001b[0m\u001b[1;32m    368\u001b[0m \u001b[0;34m\u001b[0m\u001b[0m\n\u001b[1;32m    369\u001b[0m         \u001b[0;32melse\u001b[0m\u001b[0;34m:\u001b[0m\u001b[0;34m\u001b[0m\u001b[0;34m\u001b[0m\u001b[0m\n",
            "\u001b[0;31mValueError\u001b[0m: \nAll the 12960 fits failed.\nIt is very likely that your model is misconfigured.\nYou can try to debug the error by setting error_score='raise'.\n\nBelow are more details about the failures:\n--------------------------------------------------------------------------------\n6480 fits failed with the following error:\nTraceback (most recent call last):\n  File \"/usr/local/lib/python3.10/dist-packages/sklearn/model_selection/_validation.py\", line 686, in _fit_and_score\n    estimator.fit(X_train, y_train, **fit_params)\n  File \"/usr/local/lib/python3.10/dist-packages/sklearn/tree/_classes.py\", line 889, in fit\n    super().fit(\n  File \"/usr/local/lib/python3.10/dist-packages/sklearn/tree/_classes.py\", line 186, in fit\n    X, y = self._validate_data(\n  File \"/usr/local/lib/python3.10/dist-packages/sklearn/base.py\", line 579, in _validate_data\n    X = check_array(X, input_name=\"X\", **check_X_params)\n  File \"/usr/local/lib/python3.10/dist-packages/sklearn/utils/validation.py\", line 940, in check_array\n    raise ValueError(\nValueError: Found array with 0 feature(s) (shape=(38128, 0)) while a minimum of 1 is required by DecisionTreeClassifier.\n\n--------------------------------------------------------------------------------\n6480 fits failed with the following error:\nTraceback (most recent call last):\n  File \"/usr/local/lib/python3.10/dist-packages/sklearn/model_selection/_validation.py\", line 686, in _fit_and_score\n    estimator.fit(X_train, y_train, **fit_params)\n  File \"/usr/local/lib/python3.10/dist-packages/sklearn/tree/_classes.py\", line 889, in fit\n    super().fit(\n  File \"/usr/local/lib/python3.10/dist-packages/sklearn/tree/_classes.py\", line 186, in fit\n    X, y = self._validate_data(\n  File \"/usr/local/lib/python3.10/dist-packages/sklearn/base.py\", line 579, in _validate_data\n    X = check_array(X, input_name=\"X\", **check_X_params)\n  File \"/usr/local/lib/python3.10/dist-packages/sklearn/utils/validation.py\", line 940, in check_array\n    raise ValueError(\nValueError: Found array with 0 feature(s) (shape=(38129, 0)) while a minimum of 1 is required by DecisionTreeClassifier.\n"
          ]
        }
      ]
    },
    {
      "cell_type": "code",
      "source": [
        "gridsearch_decision_tree.best_params_"
      ],
      "metadata": {
        "id": "qgGH1ZYXtilo"
      },
      "execution_count": null,
      "outputs": []
    },
    {
      "cell_type": "code",
      "source": [
        "gridsearch_decision_tree.best_score_"
      ],
      "metadata": {
        "id": "lGeYqQwktilo"
      },
      "execution_count": null,
      "outputs": []
    },
    {
      "cell_type": "code",
      "source": [
        "model_decisionTree_classifier = gridsearch_decision_tree.best_estimator_"
      ],
      "metadata": {
        "id": "EFsMr5I-m6m2"
      },
      "execution_count": null,
      "outputs": []
    },
    {
      "cell_type": "code",
      "source": [
        "y_pred = model_decisionTree_classifier.predict(X_test)\n",
        "print(classification_report(y_test, y_pred, digits=4))  # no digits vc coloca o número desejado de casas decimais"
      ],
      "metadata": {
        "id": "YlqEpbTBtilp"
      },
      "execution_count": null,
      "outputs": []
    },
    {
      "cell_type": "code",
      "source": [
        "cm = metrics.confusion_matrix(y_test, y_pred, labels=model_decisionTree_classifier.classes_)\n",
        "disp = metrics.ConfusionMatrixDisplay(confusion_matrix=cm, display_labels=['Peso_Normal','Macrossomia'])\n",
        "disp.plot()\n",
        "plt.tight_layout()\n",
        "plt.show()"
      ],
      "metadata": {
        "id": "HDvr_ToVj9oi"
      },
      "execution_count": null,
      "outputs": []
    },
    {
      "cell_type": "markdown",
      "source": [
        "#GridSearch Random Forest"
      ],
      "metadata": {
        "id": "DBihchL-re1f"
      }
    },
    {
      "cell_type": "code",
      "source": [
        "df_balanceado['PESO'].value_counts()"
      ],
      "metadata": {
        "id": "GBAc1zeQuh5v"
      },
      "execution_count": null,
      "outputs": []
    },
    {
      "cell_type": "code",
      "source": [
        "#Aqui iremos passar as definições do gridsearch para o modelo Random Forest\n",
        "\n",
        "# Defina o modelo\n",
        "model_random = RandomForestClassifier()\n",
        "\n",
        "# Defina o espaço de hiperparâmetros\n",
        "param_grid = {\n",
        "    'n_estimators': [100, 200, 300],\n",
        "    'max_depth': [None, 10, 20],\n",
        "    'min_samples_split': [2, 5, 10],\n",
        "    'min_samples_leaf': [1, 2, 4]\n",
        "}\n",
        "\n",
        "cross_validation = 10"
      ],
      "metadata": {
        "id": "dezhSs1pQEXC"
      },
      "execution_count": null,
      "outputs": []
    },
    {
      "cell_type": "code",
      "source": [
        "gridsearch_random_forest = GridSearchCV(estimator=model_random, param_grid=param_grid, cv=cross_validation, scoring='accuracy', verbose=2, n_jobs=-1)\n"
      ],
      "metadata": {
        "id": "9QjaD40QUiIW"
      },
      "execution_count": null,
      "outputs": []
    },
    {
      "cell_type": "code",
      "source": [
        "gridsearch_random_forest.fit(X_train, y_train)\n"
      ],
      "metadata": {
        "id": "_qTHWM9_Ui3q"
      },
      "execution_count": null,
      "outputs": []
    },
    {
      "cell_type": "code",
      "source": [
        "gridsearch_random_forest.best_params_"
      ],
      "metadata": {
        "id": "hvNF9voApSLq"
      },
      "execution_count": null,
      "outputs": []
    },
    {
      "cell_type": "code",
      "source": [
        "gridsearch_random_forest.best_score_"
      ],
      "metadata": {
        "id": "A5FMJindpSSb"
      },
      "execution_count": null,
      "outputs": []
    },
    {
      "cell_type": "code",
      "source": [
        "model_randomForest_classifier = gridsearch_random_forest.best_estimator_"
      ],
      "metadata": {
        "id": "wML8Qkagvi2v"
      },
      "execution_count": null,
      "outputs": []
    },
    {
      "cell_type": "code",
      "source": [
        "y_pred = model_randomForest_classifier.predict(X_test)\n",
        "print(classification_report(y_test, y_pred, digits = 4))"
      ],
      "metadata": {
        "id": "j7x-Dvsn1R2E"
      },
      "execution_count": null,
      "outputs": []
    },
    {
      "cell_type": "code",
      "source": [
        "cm = metrics.confusion_matrix(y_test, y_pred, labels=model_randomForest_classifier.classes_)\n",
        "disp = metrics.ConfusionMatrixDisplay(confusion_matrix=cm, display_labels=['Peso_Normal','Macrossomia'])\n",
        "disp.plot()\n",
        "plt.tight_layout()\n",
        "plt.show()"
      ],
      "metadata": {
        "id": "TEBXzUrpq1FB"
      },
      "execution_count": null,
      "outputs": []
    },
    {
      "cell_type": "markdown",
      "source": [
        "#GridSearch Adaboost"
      ],
      "metadata": {
        "id": "7Psu1Jf-s2yQ"
      }
    },
    {
      "cell_type": "code",
      "source": [
        "#Aqui iremos passar as definições do gridsearch para o modelo AdaBoost\n",
        "\n",
        "# Defina o modelo\n",
        "model_adaboost = AdaBoostClassifier()\n",
        "\n",
        "# Defina o espaço de hiperparâmetros\n",
        "param_grid = {\n",
        "    'base_estimator': [DecisionTreeClassifier(max_depth=1), DecisionTreeClassifier(max_depth=2)],\n",
        "    'n_estimators': [50, 100, 200],  # Número de estimadores (número de iterações)\n",
        "    'learning_rate': [0.01, 0.1, 1.0],  # Taxa de aprendizado\n",
        "    'algorithm': ['SAMME', 'SAMME.R']  # Algoritmo para calcular os pesos dos estimadores\n",
        "}\n",
        "\n",
        "cross_validation = 10"
      ],
      "metadata": {
        "id": "i2mq2qeIa0eP"
      },
      "execution_count": null,
      "outputs": []
    },
    {
      "cell_type": "code",
      "source": [
        "gridsearch_adaboost = GridSearchCV(estimator=model_adaboost, param_grid=param_grid, cv=cross_validation, scoring='accuracy', verbose=2, n_jobs=-1) #a metrica do score foi a acurácia"
      ],
      "metadata": {
        "id": "otCIymuJbfnL"
      },
      "execution_count": null,
      "outputs": []
    },
    {
      "cell_type": "code",
      "source": [
        "gridsearch_adaboost.fit(X_train, y_train)"
      ],
      "metadata": {
        "id": "7fRS_2k5bscX"
      },
      "execution_count": null,
      "outputs": []
    },
    {
      "cell_type": "code",
      "source": [
        "gridsearch_adaboost.best_params_"
      ],
      "metadata": {
        "id": "6WiI7mVYbwmP"
      },
      "execution_count": null,
      "outputs": []
    },
    {
      "cell_type": "code",
      "source": [
        "gridsearch_adaboost.best_score_"
      ],
      "metadata": {
        "id": "Zpgpu60iby4c"
      },
      "execution_count": null,
      "outputs": []
    },
    {
      "cell_type": "code",
      "source": [
        "melhores_parametros_ada = gridsearch_adaboost.best_estimator_"
      ],
      "metadata": {
        "id": "NVri_Kz6b2T3"
      },
      "execution_count": null,
      "outputs": []
    },
    {
      "cell_type": "code",
      "source": [
        "y_pred = melhores_parametros_ada.predict(X_test)\n",
        "print(classification_report(y_test, y_pred, digits = 5))"
      ],
      "metadata": {
        "id": "oAKAHPSMb2qa"
      },
      "execution_count": null,
      "outputs": []
    },
    {
      "cell_type": "code",
      "source": [
        "# Plotar a matriz de confusão do conjunto de teste para AdaBoost\n",
        "\n",
        "from sklearn.metrics import accuracy_score, confusion_matrix, classification_report\n",
        "import matplotlib.pyplot as plt\n",
        "import sklearn.metrics as metrics\n",
        "import seaborn as sns\n",
        "\n",
        "cm = metrics.confusion_matrix(y_test, y_pred, labels=melhores_parametros_ada.classes_)\n",
        "\n",
        "plt.figure(figsize=(8, 6))\n",
        "sns.heatmap(cm, annot=True, fmt=\"d\", cmap=\"Blues\", cbar=False,\n",
        "            xticklabels=['PesoNormal', 'MACRO'], yticklabels=['PesoNormal', 'MACRO'])\n",
        "plt.xlabel('Previsto')\n",
        "plt.ylabel('Verdadeiro')\n",
        "plt.title('Matriz de Confusão do AdaBoost com Grid Search')\n",
        "plt.show()\n",
        "\n",
        "# Exibir relatório de classificação do conjunto de teste para AdaBoost\n",
        "print(\"\\nRelatório de Classificação do Conjunto de Teste para AdaBoost:\")\n",
        "print(classification_report(y_test, y_pred))"
      ],
      "metadata": {
        "id": "bAhU9aBxYurq"
      },
      "execution_count": null,
      "outputs": []
    },
    {
      "cell_type": "code",
      "source": [
        "#cm é a matriz de confusão\n",
        "cm = metrics.confusion_matrix(y_test, y_pred, labels=melhores_parametros_ada.classes_)\n",
        "disp = metrics.ConfusionMatrixDisplay(confusion_matrix=cm, display_labels=('Peso_Normal','Macrossomia'))\n",
        "disp.plot()\n",
        "plt.tight_layout()\n",
        "plt.show()"
      ],
      "metadata": {
        "id": "V0LZ0idYb_Ma"
      },
      "execution_count": null,
      "outputs": []
    },
    {
      "cell_type": "code",
      "source": [
        "#dt = AdaBoostClassifier()\n",
        "#dt.fit(X_train, y_train)\n",
        "#y_pred = dt.predict(X_test)\n",
        "#print(classification_report(y_test, y_pred))"
      ],
      "metadata": {
        "id": "s9K88P1j1W2c"
      },
      "execution_count": null,
      "outputs": []
    }
  ]
}